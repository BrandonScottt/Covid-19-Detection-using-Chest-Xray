{
  "nbformat": 4,
  "nbformat_minor": 0,
  "metadata": {
    "colab": {
      "provenance": []
    },
    "kernelspec": {
      "name": "python3",
      "display_name": "Python 3"
    },
    "language_info": {
      "name": "python"
    },
    "accelerator": "GPU"
  },
  "cells": [
    {
      "cell_type": "markdown",
      "metadata": {
        "id": "S2a_OiImKgiZ"
      },
      "source": [
        "link to sheets: https://docs.google.com/spreadsheets/d/1fxqO1YTm68c_4OVL3glYpUaMGJpW52t1vjyQd8L0ApM/edit?usp=sharing"
      ]
    },
    {
      "cell_type": "code",
      "metadata": {
        "colab": {
          "base_uri": "https://localhost:8080/"
        },
        "id": "yiy-1N8X03CI",
        "outputId": "3b808c80-74db-46e3-e536-6ceda0738bf9"
      },
      "source": [
        "from google.colab import drive\n",
        "drive.mount('/content/drive')"
      ],
      "execution_count": null,
      "outputs": [
        {
          "output_type": "stream",
          "text": [
            "Mounted at /content/drive\n"
          ],
          "name": "stdout"
        }
      ]
    },
    {
      "cell_type": "code",
      "metadata": {
        "colab": {
          "base_uri": "https://localhost:8080/"
        },
        "id": "_9HQP5dYWQMB",
        "outputId": "e2e3de17-6a48-4313-8bf3-d80b61b8a2cc"
      },
      "source": [
        "!nvidia-smi"
      ],
      "execution_count": null,
      "outputs": [
        {
          "output_type": "stream",
          "text": [
            "Wed Jun 16 17:17:22 2021       \n",
            "+-----------------------------------------------------------------------------+\n",
            "| NVIDIA-SMI 465.27       Driver Version: 460.32.03    CUDA Version: 11.2     |\n",
            "|-------------------------------+----------------------+----------------------+\n",
            "| GPU  Name        Persistence-M| Bus-Id        Disp.A | Volatile Uncorr. ECC |\n",
            "| Fan  Temp  Perf  Pwr:Usage/Cap|         Memory-Usage | GPU-Util  Compute M. |\n",
            "|                               |                      |               MIG M. |\n",
            "|===============================+======================+======================|\n",
            "|   0  Tesla T4            Off  | 00000000:00:04.0 Off |                    0 |\n",
            "| N/A   39C    P8     9W /  70W |      0MiB / 15109MiB |      0%      Default |\n",
            "|                               |                      |                  N/A |\n",
            "+-------------------------------+----------------------+----------------------+\n",
            "                                                                               \n",
            "+-----------------------------------------------------------------------------+\n",
            "| Processes:                                                                  |\n",
            "|  GPU   GI   CI        PID   Type   Process name                  GPU Memory |\n",
            "|        ID   ID                                                   Usage      |\n",
            "|=============================================================================|\n",
            "|  No running processes found                                                 |\n",
            "+-----------------------------------------------------------------------------+\n"
          ],
          "name": "stdout"
        }
      ]
    },
    {
      "cell_type": "markdown",
      "metadata": {
        "id": "IjXExBttWdTA"
      },
      "source": [
        "WANT Tesla T4 or Tesla P100\n",
        "\n",
        "AVOID k80"
      ]
    },
    {
      "cell_type": "markdown",
      "metadata": {
        "id": "FJhl_AY6h5vN"
      },
      "source": [
        "# Model 1"
      ]
    },
    {
      "cell_type": "code",
      "metadata": {
        "id": "_bV9wkXyh19h",
        "colab": {
          "base_uri": "https://localhost:8080/"
        },
        "outputId": "af64b33f-e807-43b3-8b8c-c5b1fa17fd13"
      },
      "source": [
        "!pip install -Uq tensorflow==2.4"
      ],
      "execution_count": null,
      "outputs": [
        {
          "output_type": "stream",
          "text": [
            "\u001b[K     |████████████████████████████████| 394.7MB 43kB/s \n",
            "\u001b[K     |████████████████████████████████| 471kB 46.5MB/s \n",
            "\u001b[K     |████████████████████████████████| 2.9MB 44.6MB/s \n",
            "\u001b[K     |████████████████████████████████| 3.8MB 41.1MB/s \n",
            "\u001b[?25h"
          ],
          "name": "stdout"
        }
      ]
    },
    {
      "cell_type": "code",
      "metadata": {
        "id": "bGMbJMBEh-68"
      },
      "source": [
        "!unzip -q /content/drive/MyDrive/dataset2.zip # change the filepath to the dataset"
      ],
      "execution_count": null,
      "outputs": []
    },
    {
      "cell_type": "code",
      "metadata": {
        "id": "PKBg3m5YiBqe"
      },
      "source": [
        "import os\n",
        "import random\n",
        "import shutil\n",
        "import glob\n",
        "import tensorflow as tf\n",
        "from tensorflow import keras\n",
        "from tensorflow.keras.optimizers import Adam\n",
        "from tensorflow.keras.preprocessing.image import ImageDataGenerator\n",
        "from tensorflow.keras.layers import Dense, GlobalAveragePooling2D\n",
        "from tensorflow.keras.models import Model\n",
        "from tensorflow.keras.models import Sequential\n",
        "from tensorflow.keras.applications import DenseNet201 # insert the model name that will be used from https://keras.io/api/applications/\n",
        "from tensorflow.keras.callbacks import ModelCheckpoint, EarlyStopping,TensorBoard,LearningRateScheduler\n",
        "from datetime import datetime\n",
        "import matplotlib.pyplot as plt"
      ],
      "execution_count": null,
      "outputs": []
    },
    {
      "cell_type": "code",
      "metadata": {
        "id": "5PTlQ7criL1c"
      },
      "source": [
        "BATCH_SIZE = 32 # change batch size accordingly\n",
        "EPOCHS = 50\n",
        "LEARNING_RATE = 1e-4 # change learning rate accordingly\n",
        "NUM_CLASSES = 2\n",
        "SPLIT = 0.2\n",
        "SEED = 42"
      ],
      "execution_count": null,
      "outputs": []
    },
    {
      "cell_type": "code",
      "metadata": {
        "id": "m9hzuz6ci0o3"
      },
      "source": [
        "random.seed(SEED)\n",
        "os.chdir('/content/dataset')\n",
        "if os.path.isdir('/content/train/covid') is False:\n",
        "    os.makedirs('/content/train/covid')\n",
        "    os.makedirs('/content/train/normal')\n",
        "    os.makedirs('/content/val/covid')\n",
        "    os.makedirs('/content/val/normal')\n",
        "    os.makedirs('/content/test/covid')\n",
        "    os.makedirs('/content/test/normal')\n",
        "\n",
        "    for c in random.sample(glob.glob('COVID*'), 2892):\n",
        "        shutil.move(c, '/content/train/covid')\n",
        "    for c in random.sample(glob.glob('COVID*'), 362):\n",
        "        shutil.move(c, '/content/val/covid')\n",
        "    for c in random.sample(glob.glob('COVID*'), 362):\n",
        "        shutil.move(c, '/content/test/covid')\n",
        "    for c in random.sample(glob.glob('Normal*'), 8154):\n",
        "        shutil.move(c, '/content/train/normal')\n",
        "    for c in random.sample(glob.glob('Normal*'), 1019):\n",
        "        shutil.move(c, '/content/val/normal')\n",
        "    for c in random.sample(glob.glob('Normal*'), 1019):\n",
        "        shutil.move(c, '/content/test/normal')\n",
        "\n",
        "os.chdir('../')\n"
      ],
      "execution_count": null,
      "outputs": []
    },
    {
      "cell_type": "code",
      "metadata": {
        "id": "W4vgOH_3i3I8"
      },
      "source": [
        "train_path = '/content/train'\n",
        "val_path = '/content/val'\n",
        "test_path = '/content/test'"
      ],
      "execution_count": null,
      "outputs": []
    },
    {
      "cell_type": "code",
      "metadata": {
        "id": "dLXTtO14i4kd",
        "colab": {
          "base_uri": "https://localhost:8080/"
        },
        "outputId": "2aa9f72e-901c-4ba2-e38b-1774ffb54232"
      },
      "source": [
        "datagen = ImageDataGenerator(\n",
        "    rescale = 1./255,\n",
        "    shear_range = 0.2,\n",
        "    zoom_range = 0.2,\n",
        "    rotation_range = 10,\n",
        "    horizontal_flip = True)\n",
        "\n",
        "train_generator = datagen.flow_from_directory(\n",
        "    train_path,\n",
        "    target_size = (224, 224),\n",
        "    batch_size = BATCH_SIZE,\n",
        "    shuffle=True)\n",
        "\n",
        "validation_generator = datagen.flow_from_directory(\n",
        "    val_path,\n",
        "    target_size = (224, 224),\n",
        "    batch_size = BATCH_SIZE,\n",
        "    shuffle=True)\n",
        "\n",
        "test_generator = datagen.flow_from_directory(\n",
        "    test_path,\n",
        "    target_size = (224, 224),\n",
        "    batch_size = BATCH_SIZE,\n",
        "    shuffle=False)"
      ],
      "execution_count": null,
      "outputs": [
        {
          "output_type": "stream",
          "text": [
            "Found 11046 images belonging to 2 classes.\n",
            "Found 1381 images belonging to 2 classes.\n",
            "Found 1381 images belonging to 2 classes.\n"
          ],
          "name": "stdout"
        }
      ]
    },
    {
      "cell_type": "code",
      "metadata": {
        "id": "MGQ4S3xOi645",
        "colab": {
          "base_uri": "https://localhost:8080/"
        },
        "outputId": "4eecf2a0-7243-4ad6-bfe8-012991c413c9"
      },
      "source": [
        "base_model = DenseNet201(weights='imagenet', include_top=False) # insert model name"
      ],
      "execution_count": null,
      "outputs": [
        {
          "output_type": "stream",
          "text": [
            "Downloading data from https://storage.googleapis.com/tensorflow/keras-applications/densenet/densenet201_weights_tf_dim_ordering_tf_kernels_notop.h5\n",
            "74842112/74836368 [==============================] - 1s 0us/step\n"
          ],
          "name": "stdout"
        }
      ]
    },
    {
      "cell_type": "code",
      "metadata": {
        "id": "Eq9_arOljK-m"
      },
      "source": [
        "model_1 = Sequential()\n",
        "model_1.add(base_model)\n",
        "model_1.add(GlobalAveragePooling2D())\n",
        "model_1.add(Dense(NUM_CLASSES, activation='sigmoid'))"
      ],
      "execution_count": null,
      "outputs": []
    },
    {
      "cell_type": "code",
      "metadata": {
        "id": "Zo8GhNN1jNTb"
      },
      "source": [
        "model_1.compile(\n",
        "    loss='binary_crossentropy',\n",
        "    optimizer=Adam(learning_rate=LEARNING_RATE),\n",
        "    metrics=['accuracy', tf.keras.metrics.Precision(), tf.keras.metrics.Recall()]\n",
        ")"
      ],
      "execution_count": null,
      "outputs": []
    },
    {
      "cell_type": "code",
      "metadata": {
        "id": "mkspIsW5jPif",
        "colab": {
          "base_uri": "https://localhost:8080/"
        },
        "outputId": "16529708-c20b-4f09-d243-c4366f03f00c"
      },
      "source": [
        "model_1.summary()"
      ],
      "execution_count": null,
      "outputs": [
        {
          "output_type": "stream",
          "text": [
            "Model: \"sequential\"\n",
            "_________________________________________________________________\n",
            "Layer (type)                 Output Shape              Param #   \n",
            "=================================================================\n",
            "densenet201 (Functional)     (None, None, None, 1920)  18321984  \n",
            "_________________________________________________________________\n",
            "global_average_pooling2d (Gl (None, 1920)              0         \n",
            "_________________________________________________________________\n",
            "dense (Dense)                (None, 2)                 3842      \n",
            "=================================================================\n",
            "Total params: 18,325,826\n",
            "Trainable params: 18,096,770\n",
            "Non-trainable params: 229,056\n",
            "_________________________________________________________________\n"
          ],
          "name": "stdout"
        }
      ]
    },
    {
      "cell_type": "code",
      "metadata": {
        "id": "ZC-krImtjRPJ"
      },
      "source": [
        "def scheduler(epoch, lr):\n",
        "      if epoch < 5:\n",
        "        return lr\n",
        "      else:\n",
        "        return lr * tf.math.exp(-0.1)"
      ],
      "execution_count": null,
      "outputs": []
    },
    {
      "cell_type": "code",
      "metadata": {
        "id": "f3w8k17GjSmY"
      },
      "source": [
        "log_dir='./logs/fit'+datetime.now().strftime('%d.%m.%Y--%H-%M-%S')\n",
        "model_path='/content/model_1.h5'\n",
        "checkpoint = ModelCheckpoint(model_path, monitor='val_accuracy',\n",
        "                             verbose=1, save_best_only=True,\n",
        "                             save_weights_only=False, mode='auto',\n",
        "                             save_freq='epoch')\n",
        "early = EarlyStopping(monitor='val_accuracy', min_delta=0, patience=10,verbose=1, mode='auto')\n",
        "board=TensorBoard(log_dir=log_dir,histogram_freq=1)\n",
        "dec=LearningRateScheduler(scheduler)\n",
        "tensorboard_callback =[checkpoint,early,board,dec]"
      ],
      "execution_count": null,
      "outputs": []
    },
    {
      "cell_type": "code",
      "metadata": {
        "id": "84z2dYiEjUBa",
        "colab": {
          "base_uri": "https://localhost:8080/"
        },
        "outputId": "1f96325b-6390-44ba-a9ec-61e2da4a3855"
      },
      "source": [
        "hist = model_1.fit(\n",
        "    train_generator,\n",
        "    validation_data=validation_generator,\n",
        "    epochs=EPOCHS,\n",
        "    steps_per_epoch=len(train_generator),\n",
        "    validation_steps=len(validation_generator),\n",
        "    callbacks=[tensorboard_callback]\n",
        ")"
      ],
      "execution_count": null,
      "outputs": [
        {
          "output_type": "stream",
          "text": [
            "Epoch 1/50\n",
            "346/346 [==============================] - 268s 615ms/step - loss: 0.2226 - accuracy: 0.9046 - precision: 0.9272 - recall: 0.8601 - val_loss: 0.2129 - val_accuracy: 0.9218 - val_precision: 0.9161 - val_recall: 0.9175\n",
            "\n",
            "Epoch 00001: val_accuracy improved from -inf to 0.92180, saving model to /content/model_1.h5\n",
            "Epoch 2/50\n",
            "346/346 [==============================] - 205s 591ms/step - loss: 0.0488 - accuracy: 0.9823 - precision: 0.9816 - recall: 0.9819 - val_loss: 0.0847 - val_accuracy: 0.9696 - val_precision: 0.9702 - val_recall: 0.9681\n",
            "\n",
            "Epoch 00002: val_accuracy improved from 0.92180 to 0.96959, saving model to /content/model_1.h5\n",
            "Epoch 3/50\n",
            "346/346 [==============================] - 207s 597ms/step - loss: 0.0395 - accuracy: 0.9853 - precision: 0.9854 - recall: 0.9856 - val_loss: 0.1613 - val_accuracy: 0.9471 - val_precision: 0.9478 - val_recall: 0.9471\n",
            "\n",
            "Epoch 00003: val_accuracy did not improve from 0.96959\n",
            "Epoch 4/50\n",
            "346/346 [==============================] - 207s 596ms/step - loss: 0.0290 - accuracy: 0.9903 - precision: 0.9902 - recall: 0.9899 - val_loss: 0.2357 - val_accuracy: 0.8950 - val_precision: 0.8852 - val_recall: 0.9044\n",
            "\n",
            "Epoch 00004: val_accuracy did not improve from 0.96959\n",
            "Epoch 5/50\n",
            "346/346 [==============================] - 206s 594ms/step - loss: 0.0250 - accuracy: 0.9917 - precision: 0.9907 - recall: 0.9914 - val_loss: 0.1522 - val_accuracy: 0.9493 - val_precision: 0.9473 - val_recall: 0.9508\n",
            "\n",
            "Epoch 00005: val_accuracy did not improve from 0.96959\n",
            "Epoch 6/50\n",
            "346/346 [==============================] - 207s 596ms/step - loss: 0.0175 - accuracy: 0.9938 - precision: 0.9938 - recall: 0.9936 - val_loss: 1.2444 - val_accuracy: 0.5742 - val_precision: 0.5725 - val_recall: 0.5663\n",
            "\n",
            "Epoch 00006: val_accuracy did not improve from 0.96959\n",
            "Epoch 7/50\n",
            "346/346 [==============================] - 207s 596ms/step - loss: 0.0196 - accuracy: 0.9926 - precision: 0.9925 - recall: 0.9924 - val_loss: 0.0494 - val_accuracy: 0.9833 - val_precision: 0.9833 - val_recall: 0.9826\n",
            "\n",
            "Epoch 00007: val_accuracy improved from 0.96959 to 0.98335, saving model to /content/model_1.h5\n",
            "Epoch 8/50\n",
            "346/346 [==============================] - 206s 595ms/step - loss: 0.0126 - accuracy: 0.9958 - precision: 0.9956 - recall: 0.9961 - val_loss: 0.4921 - val_accuracy: 0.8030 - val_precision: 0.8004 - val_recall: 0.8074\n",
            "\n",
            "Epoch 00008: val_accuracy did not improve from 0.98335\n",
            "Epoch 9/50\n",
            "346/346 [==============================] - 207s 597ms/step - loss: 0.0129 - accuracy: 0.9961 - precision: 0.9961 - recall: 0.9961 - val_loss: 0.1960 - val_accuracy: 0.9450 - val_precision: 0.9436 - val_recall: 0.9457\n",
            "\n",
            "Epoch 00009: val_accuracy did not improve from 0.98335\n",
            "Epoch 10/50\n",
            "346/346 [==============================] - 206s 596ms/step - loss: 0.0109 - accuracy: 0.9968 - precision: 0.9969 - recall: 0.9964 - val_loss: 0.0475 - val_accuracy: 0.9848 - val_precision: 0.9848 - val_recall: 0.9870\n",
            "\n",
            "Epoch 00010: val_accuracy improved from 0.98335 to 0.98479, saving model to /content/model_1.h5\n",
            "Epoch 11/50\n",
            "346/346 [==============================] - 206s 596ms/step - loss: 0.0077 - accuracy: 0.9977 - precision: 0.9977 - recall: 0.9976 - val_loss: 0.0248 - val_accuracy: 0.9949 - val_precision: 0.9942 - val_recall: 0.9949\n",
            "\n",
            "Epoch 00011: val_accuracy improved from 0.98479 to 0.99493, saving model to /content/model_1.h5\n",
            "Epoch 12/50\n",
            "346/346 [==============================] - 207s 597ms/step - loss: 0.0099 - accuracy: 0.9972 - precision: 0.9972 - recall: 0.9969 - val_loss: 0.6940 - val_accuracy: 0.7458 - val_precision: 0.7485 - val_recall: 0.7393\n",
            "\n",
            "Epoch 00012: val_accuracy did not improve from 0.99493\n",
            "Epoch 13/50\n",
            "346/346 [==============================] - 206s 596ms/step - loss: 0.0042 - accuracy: 0.9987 - precision: 0.9986 - recall: 0.9987 - val_loss: 0.1670 - val_accuracy: 0.9594 - val_precision: 0.9594 - val_recall: 0.9594\n",
            "\n",
            "Epoch 00013: val_accuracy did not improve from 0.99493\n",
            "Epoch 14/50\n",
            "346/346 [==============================] - 206s 595ms/step - loss: 0.0043 - accuracy: 0.9980 - precision: 0.9983 - recall: 0.9980 - val_loss: 0.0143 - val_accuracy: 0.9949 - val_precision: 0.9949 - val_recall: 0.9935\n",
            "\n",
            "Epoch 00014: val_accuracy did not improve from 0.99493\n",
            "Epoch 15/50\n",
            "346/346 [==============================] - 206s 595ms/step - loss: 0.0023 - accuracy: 0.9991 - precision: 0.9991 - recall: 0.9991 - val_loss: 0.0133 - val_accuracy: 0.9942 - val_precision: 0.9942 - val_recall: 0.9942\n",
            "\n",
            "Epoch 00015: val_accuracy did not improve from 0.99493\n",
            "Epoch 16/50\n",
            "346/346 [==============================] - 206s 595ms/step - loss: 0.0012 - accuracy: 0.9998 - precision: 0.9997 - recall: 0.9998 - val_loss: 0.0375 - val_accuracy: 0.9884 - val_precision: 0.9884 - val_recall: 0.9884\n",
            "\n",
            "Epoch 00016: val_accuracy did not improve from 0.99493\n",
            "Epoch 17/50\n",
            "346/346 [==============================] - 206s 596ms/step - loss: 0.0027 - accuracy: 0.9988 - precision: 0.9988 - recall: 0.9988 - val_loss: 0.0135 - val_accuracy: 0.9957 - val_precision: 0.9964 - val_recall: 0.9957\n",
            "\n",
            "Epoch 00017: val_accuracy improved from 0.99493 to 0.99566, saving model to /content/model_1.h5\n",
            "Epoch 18/50\n",
            "346/346 [==============================] - 206s 595ms/step - loss: 0.0028 - accuracy: 0.9993 - precision: 0.9993 - recall: 0.9993 - val_loss: 0.1033 - val_accuracy: 0.9609 - val_precision: 0.9602 - val_recall: 0.9616\n",
            "\n",
            "Epoch 00018: val_accuracy did not improve from 0.99566\n",
            "Epoch 19/50\n",
            "346/346 [==============================] - 206s 596ms/step - loss: 0.0028 - accuracy: 0.9992 - precision: 0.9993 - recall: 0.9994 - val_loss: 0.0484 - val_accuracy: 0.9819 - val_precision: 0.9819 - val_recall: 0.9804\n",
            "\n",
            "Epoch 00019: val_accuracy did not improve from 0.99566\n",
            "Epoch 20/50\n",
            "346/346 [==============================] - 207s 597ms/step - loss: 0.0012 - accuracy: 0.9999 - precision: 0.9999 - recall: 0.9999 - val_loss: 0.0727 - val_accuracy: 0.9776 - val_precision: 0.9776 - val_recall: 0.9776\n",
            "\n",
            "Epoch 00020: val_accuracy did not improve from 0.99566\n",
            "Epoch 21/50\n",
            "346/346 [==============================] - 207s 596ms/step - loss: 0.0028 - accuracy: 0.9989 - precision: 0.9989 - recall: 0.9989 - val_loss: 0.1190 - val_accuracy: 0.9500 - val_precision: 0.9508 - val_recall: 0.9508\n",
            "\n",
            "Epoch 00021: val_accuracy did not improve from 0.99566\n",
            "Epoch 22/50\n",
            "346/346 [==============================] - 207s 596ms/step - loss: 4.4576e-04 - accuracy: 1.0000 - precision: 1.0000 - recall: 1.0000 - val_loss: 0.0135 - val_accuracy: 0.9949 - val_precision: 0.9949 - val_recall: 0.9949\n",
            "\n",
            "Epoch 00022: val_accuracy did not improve from 0.99566\n",
            "Epoch 23/50\n",
            "346/346 [==============================] - 206s 596ms/step - loss: 0.0016 - accuracy: 0.9995 - precision: 0.9996 - recall: 0.9995 - val_loss: 0.0145 - val_accuracy: 0.9949 - val_precision: 0.9949 - val_recall: 0.9949\n",
            "\n",
            "Epoch 00023: val_accuracy did not improve from 0.99566\n",
            "Epoch 24/50\n",
            "346/346 [==============================] - 207s 596ms/step - loss: 0.0010 - accuracy: 0.9997 - precision: 0.9997 - recall: 0.9997 - val_loss: 0.0163 - val_accuracy: 0.9942 - val_precision: 0.9942 - val_recall: 0.9949\n",
            "\n",
            "Epoch 00024: val_accuracy did not improve from 0.99566\n",
            "Epoch 25/50\n",
            "346/346 [==============================] - 207s 596ms/step - loss: 6.1858e-04 - accuracy: 0.9998 - precision: 0.9998 - recall: 0.9998 - val_loss: 0.0161 - val_accuracy: 0.9957 - val_precision: 0.9957 - val_recall: 0.9957\n",
            "\n",
            "Epoch 00025: val_accuracy did not improve from 0.99566\n",
            "Epoch 26/50\n",
            "346/346 [==============================] - 207s 597ms/step - loss: 0.0015 - accuracy: 0.9996 - precision: 0.9996 - recall: 0.9996 - val_loss: 0.0105 - val_accuracy: 0.9964 - val_precision: 0.9964 - val_recall: 0.9971\n",
            "\n",
            "Epoch 00026: val_accuracy improved from 0.99566 to 0.99638, saving model to /content/model_1.h5\n",
            "Epoch 27/50\n",
            "346/346 [==============================] - 207s 597ms/step - loss: 3.2811e-04 - accuracy: 1.0000 - precision: 1.0000 - recall: 1.0000 - val_loss: 0.0108 - val_accuracy: 0.9964 - val_precision: 0.9964 - val_recall: 0.9964\n",
            "\n",
            "Epoch 00027: val_accuracy did not improve from 0.99638\n",
            "Epoch 28/50\n",
            "346/346 [==============================] - 206s 596ms/step - loss: 7.3135e-04 - accuracy: 0.9998 - precision: 0.9998 - recall: 0.9999 - val_loss: 0.0540 - val_accuracy: 0.9848 - val_precision: 0.9848 - val_recall: 0.9848\n",
            "\n",
            "Epoch 00028: val_accuracy did not improve from 0.99638\n",
            "Epoch 29/50\n",
            "346/346 [==============================] - 207s 597ms/step - loss: 0.0028 - accuracy: 0.9994 - precision: 0.9994 - recall: 0.9994 - val_loss: 0.0102 - val_accuracy: 0.9971 - val_precision: 0.9971 - val_recall: 0.9978\n",
            "\n",
            "Epoch 00029: val_accuracy improved from 0.99638 to 0.99710, saving model to /content/model_1.h5\n",
            "Epoch 30/50\n",
            "346/346 [==============================] - 207s 596ms/step - loss: 3.7368e-04 - accuracy: 1.0000 - precision: 1.0000 - recall: 1.0000 - val_loss: 0.0220 - val_accuracy: 0.9957 - val_precision: 0.9957 - val_recall: 0.9957\n",
            "\n",
            "Epoch 00030: val_accuracy did not improve from 0.99710\n",
            "Epoch 31/50\n",
            "346/346 [==============================] - 207s 597ms/step - loss: 6.3453e-04 - accuracy: 0.9999 - precision: 1.0000 - recall: 0.9999 - val_loss: 0.0171 - val_accuracy: 0.9942 - val_precision: 0.9942 - val_recall: 0.9942\n",
            "\n",
            "Epoch 00031: val_accuracy did not improve from 0.99710\n",
            "Epoch 32/50\n",
            "346/346 [==============================] - 207s 597ms/step - loss: 4.9658e-04 - accuracy: 0.9999 - precision: 0.9999 - recall: 0.9999 - val_loss: 0.0080 - val_accuracy: 0.9971 - val_precision: 0.9971 - val_recall: 0.9971\n",
            "\n",
            "Epoch 00032: val_accuracy did not improve from 0.99710\n",
            "Epoch 33/50\n",
            "346/346 [==============================] - 207s 596ms/step - loss: 1.9645e-04 - accuracy: 1.0000 - precision: 1.0000 - recall: 1.0000 - val_loss: 0.0414 - val_accuracy: 0.9899 - val_precision: 0.9899 - val_recall: 0.9899\n",
            "\n",
            "Epoch 00033: val_accuracy did not improve from 0.99710\n",
            "Epoch 34/50\n",
            "346/346 [==============================] - 207s 596ms/step - loss: 3.4992e-04 - accuracy: 0.9998 - precision: 0.9998 - recall: 0.9998 - val_loss: 0.0178 - val_accuracy: 0.9964 - val_precision: 0.9964 - val_recall: 0.9964\n",
            "\n",
            "Epoch 00034: val_accuracy did not improve from 0.99710\n",
            "Epoch 35/50\n",
            "346/346 [==============================] - 207s 596ms/step - loss: 2.0555e-04 - accuracy: 1.0000 - precision: 1.0000 - recall: 1.0000 - val_loss: 0.0258 - val_accuracy: 0.9928 - val_precision: 0.9928 - val_recall: 0.9928\n",
            "\n",
            "Epoch 00035: val_accuracy did not improve from 0.99710\n",
            "Epoch 36/50\n",
            "346/346 [==============================] - 207s 596ms/step - loss: 2.1543e-04 - accuracy: 1.0000 - precision: 1.0000 - recall: 1.0000 - val_loss: 0.0292 - val_accuracy: 0.9913 - val_precision: 0.9913 - val_recall: 0.9920\n",
            "\n",
            "Epoch 00036: val_accuracy did not improve from 0.99710\n",
            "Epoch 37/50\n",
            "346/346 [==============================] - 207s 597ms/step - loss: 2.0135e-04 - accuracy: 1.0000 - precision: 1.0000 - recall: 1.0000 - val_loss: 0.0154 - val_accuracy: 0.9949 - val_precision: 0.9949 - val_recall: 0.9949\n",
            "\n",
            "Epoch 00037: val_accuracy did not improve from 0.99710\n",
            "Epoch 38/50\n",
            "346/346 [==============================] - 207s 597ms/step - loss: 2.4519e-04 - accuracy: 0.9999 - precision: 0.9999 - recall: 0.9999 - val_loss: 0.0168 - val_accuracy: 0.9957 - val_precision: 0.9957 - val_recall: 0.9957\n",
            "\n",
            "Epoch 00038: val_accuracy did not improve from 0.99710\n",
            "Epoch 39/50\n",
            "346/346 [==============================] - 207s 597ms/step - loss: 2.5239e-04 - accuracy: 1.0000 - precision: 1.0000 - recall: 1.0000 - val_loss: 0.0132 - val_accuracy: 0.9964 - val_precision: 0.9964 - val_recall: 0.9964\n",
            "\n",
            "Epoch 00039: val_accuracy did not improve from 0.99710\n",
            "Epoch 00039: early stopping\n"
          ],
          "name": "stdout"
        }
      ]
    },
    {
      "cell_type": "markdown",
      "metadata": {
        "id": "BWPtgRVYj8aO"
      },
      "source": [
        "To find the \"epoch\", \"val_acc\", \"val_precision\" and \"val_recall\":\n",
        "1. Take the final epoch number, this is \"epoch\"\n",
        "2. Subtract it by 10\n",
        "3. Find the val_accuracy, val_precision and val_recall\n",
        "4. the best values for val_acc should be above the sentence \"the model improved\""
      ]
    },
    {
      "cell_type": "code",
      "metadata": {
        "id": "-u48tJfFjVP9",
        "colab": {
          "base_uri": "https://localhost:8080/",
          "height": 1000
        },
        "outputId": "bcb5bad2-ce63-4325-f8c6-9e1758c05b69"
      },
      "source": [
        "plt.figure(1, figsize=(16,18))\n",
        "plt.subplot(2,1,1)\n",
        "plt.plot(hist.history['loss'])\n",
        "plt.plot(hist.history['val_loss'])\n",
        "plt.legend(['train','test'])\n",
        "plt.title('loss')\n",
        "plt.subplot(2,1,2)\n",
        "plt.plot(hist.history['accuracy'])\n",
        "plt.plot(hist.history['val_accuracy'])\n",
        "plt.legend(['train','test'])\n",
        "plt.title('accuracy')\n",
        "plt.show()"
      ],
      "execution_count": null,
      "outputs": [
        {
          "output_type": "display_data",
          "data": {
            "image/png": "[encoded data removed]",
            "text/plain": [
              "<Figure size 1152x1296 with 2 Axes>"
            ]
          },
          "metadata": {
            "tags": [],
            "needs_background": "light"
          }
        }
      ]
    },
    {
      "cell_type": "code",
      "metadata": {
        "id": "CEx8-gLmjXCz",
        "colab": {
          "base_uri": "https://localhost:8080/"
        },
        "outputId": "534b7708-2b00-4831-e5d7-0d31834b9f7d"
      },
      "source": [
        "loss, acc, pre, rec = model_1.evaluate(test_generator)\n",
        "print(\"\\ntest %s: %.2f%%\" % (model_1.metrics_names[1], acc * 100))\n",
        "print(\"\\ntest %s: %.2f%%\" % (model_1.metrics_names[2], pre * 100))\n",
        "print(\"\\ntest %s: %.2f%%\" % (model_1.metrics_names[3], rec * 100))"
      ],
      "execution_count": null,
      "outputs": [
        {
          "output_type": "stream",
          "text": [
            "44/44 [==============================] - 16s 360ms/step - loss: 0.0198 - accuracy: 0.9949 - precision: 0.9949 - recall: 0.9949\n",
            "\n",
            "test accuracy: 99.49%\n",
            "\n",
            "test precision: 99.49%\n",
            "\n",
            "test recall: 99.49%\n"
          ],
          "name": "stdout"
        }
      ]
    },
    {
      "cell_type": "markdown",
      "metadata": {
        "id": "xZsyrMCBkuSR"
      },
      "source": [
        "Record the values above"
      ]
    },
    {
      "cell_type": "markdown",
      "metadata": {
        "id": "OSULIQ34j4He"
      },
      "source": [
        "# Model (template)"
      ]
    },
    {
      "cell_type": "markdown",
      "metadata": {
        "id": "ytpK6AYglerU"
      },
      "source": [
        "This is the template to add more models\n",
        "\n",
        "To use the template, fill in the blanks and change the \"x\" variables into integers or any name you like. For example, change model_x model_2 or model _3, and so on."
      ]
    },
    {
      "cell_type": "code",
      "metadata": {
        "id": "eWjDSeKzk0mG"
      },
      "source": [
        "from tensorflow.keras.applications import DenseNet201 # insert the model name here"
      ],
      "execution_count": null,
      "outputs": []
    },
    {
      "cell_type": "code",
      "metadata": {
        "id": "SjvR7omJk5wa"
      },
      "source": [
        "# change x to a number (1)\n",
        "base_model_x = DenseNet201(weights='imagenet', include_top=False) # insert model name here"
      ],
      "execution_count": null,
      "outputs": []
    },
    {
      "cell_type": "code",
      "metadata": {
        "id": "zsBCeiOWlJt5"
      },
      "source": [
        "# change x to a number (5)\n",
        "model_x = Sequential()\n",
        "model_x.add(base_model_x) #  don't forget to change base_model_x\n",
        "model_x.add(GlobalAveragePooling2D())\n",
        "model_x.add(Dense(NUM_CLASSES, activation='sigmoid'))"
      ],
      "execution_count": null,
      "outputs": []
    },
    {
      "cell_type": "code",
      "metadata": {
        "id": "8ylt2F1umFyA"
      },
      "source": [
        "# change x to a number (1)\n",
        "model_x.compile(\n",
        "    loss='binary_crossentropy',\n",
        "    optimizer=Adam(learning_rate=LEARNING_RATE),\n",
        "    metrics=['accuracy', tf.keras.metrics.Precision(), tf.keras.metrics.Recall()]\n",
        ")"
      ],
      "execution_count": null,
      "outputs": []
    },
    {
      "cell_type": "code",
      "metadata": {
        "id": "BuUIuIGPmIFJ"
      },
      "source": [
        "# change x to a number (1)\n",
        "model_x.summary()"
      ],
      "execution_count": null,
      "outputs": []
    },
    {
      "cell_type": "code",
      "metadata": {
        "id": "78kzHWTlmOJk"
      },
      "source": [
        "# change x to a number (1)\n",
        "log_dir='./logs/fit'+datetime.now().strftime('%d.%m.%Y--%H-%M-%S')\n",
        "\n",
        "model_path='/content/model_x.h5' #here\n",
        "\n",
        "checkpoint = ModelCheckpoint(model_path, monitor='val_accuracy',\n",
        "                             verbose=1, save_best_only=True,\n",
        "                             save_weights_only=False, mode='auto',\n",
        "                             save_freq='epoch')\n",
        "early = EarlyStopping(monitor='val_accuracy', min_delta=0, patience=10,verbose=1, mode='auto')\n",
        "board=TensorBoard(log_dir=log_dir,histogram_freq=1)\n",
        "dec=LearningRateScheduler(scheduler)\n",
        "tensorboard_callback =[checkpoint,early,board,dec]"
      ],
      "execution_count": null,
      "outputs": []
    },
    {
      "cell_type": "code",
      "metadata": {
        "id": "eBqMjVy3mcRX"
      },
      "source": [
        "# change x to a number (1)\n",
        "hist = model_x.fit(\n",
        "    train_generator,\n",
        "    validation_data=validation_generator,\n",
        "    epochs=EPOCHS,\n",
        "    steps_per_epoch=len(train_generator),\n",
        "    validation_steps=len(validation_generator),\n",
        "    callbacks=[tensorboard_callback]\n",
        ")"
      ],
      "execution_count": null,
      "outputs": []
    },
    {
      "cell_type": "code",
      "metadata": {
        "id": "LEkPUhYwmjDl"
      },
      "source": [
        "plt.figure(1, figsize=(16,18))\n",
        "plt.subplot(2,1,1)\n",
        "plt.plot(hist.history['loss'])\n",
        "plt.plot(hist.history['val_loss'])\n",
        "plt.legend(['train','test'])\n",
        "plt.title('loss')\n",
        "plt.subplot(2,1,2)\n",
        "plt.plot(hist.history['accuracy'])\n",
        "plt.plot(hist.history['val_accuracy'])\n",
        "plt.legend(['train','test'])\n",
        "plt.title('accuracy')\n",
        "plt.show()"
      ],
      "execution_count": null,
      "outputs": []
    },
    {
      "cell_type": "code",
      "metadata": {
        "id": "n3m3zzPnmp07"
      },
      "source": [
        "# change x to a number (4)\n",
        "loss, acc, pre, rec = model_x.evaluate(test_generator)\n",
        "print(\"\\ntest %s: %.2f%%\" % (model_x.metrics_names[1], acc * 100))\n",
        "print(\"\\ntest %s: %.2f%%\" % (model_x.metrics_names[2], pre * 100))\n",
        "print(\"\\ntest %s: %.2f%%\" % (model_x.metrics_names[3], rec * 100))"
      ],
      "execution_count": null,
      "outputs": []
    },
    {
      "cell_type": "markdown",
      "source": [
        "# Training Script"
      ],
      "metadata": {
        "id": "xlxci-zyYP6d"
      }
    },
    {
      "cell_type": "markdown",
      "source": [
        "You can run this in terminal using this script."
      ],
      "metadata": {
        "id": "FOZoeA-2aAZx"
      }
    },
    {
      "cell_type": "code",
      "source": [
        "from tensorflow.keras.applications import DenseNet201, ResNet50, EfficientNetB0  # Add more if needed"
      ],
      "metadata": {
        "id": "SfHMJwi1XXKq"
      },
      "execution_count": null,
      "outputs": []
    },
    {
      "cell_type": "code",
      "source": [
        "NUM_CLASSES = 1\n",
        "EPOCHS = 25\n",
        "LEARNING_RATE = 1e-4\n",
        "\n",
        "def scheduler(epoch, lr):\n",
        "    return lr * 0.95\n",
        "\n",
        "def get_base_model(name='DenseNet201', input_shape=(150, 150, 3)):\n",
        "    base_models = {\n",
        "        'DenseNet201': DenseNet201,\n",
        "        'ResNet50': ResNet50,\n",
        "        'EfficientNetB0': EfficientNetB0,\n",
        "        # Add more here\n",
        "    }\n",
        "    if name not in base_models:\n",
        "        raise ValueError(f\"Model '{name}' not supported.\")\n",
        "\n",
        "    return base_models[name](weights='imagenet', include_top=False, input_shape=input_shape)\n",
        "\n",
        "def build_model(base_model_name='DenseNet201'):\n",
        "    base_model = get_base_model(base_model_name)\n",
        "    model = Sequential([\n",
        "        base_model,\n",
        "        GlobalAveragePooling2D(),\n",
        "        Dense(NUM_CLASSES, activation='sigmoid')\n",
        "    ])\n",
        "    return model\n",
        "\n",
        "def compile_and_train(model, name, train_gen, val_gen):\n",
        "    model.compile(\n",
        "        loss='binary_crossentropy',\n",
        "        optimizer=Adam(learning_rate=LEARNING_RATE),\n",
        "        metrics=['accuracy', tf.keras.metrics.Precision(), tf.keras.metrics.Recall()]\n",
        "    )\n",
        "\n",
        "    model.summary()\n",
        "\n",
        "    log_dir = './logs/fit_' + datetime.now().strftime('%d.%m.%Y--%H-%M-%S')\n",
        "    model_path = f'./model_{name}.h5'\n",
        "\n",
        "    checkpoint = ModelCheckpoint(model_path, monitor='val_accuracy', verbose=1,\n",
        "                                 save_best_only=True, mode='auto')\n",
        "    early_stop = EarlyStopping(monitor='val_accuracy', patience=10, verbose=1)\n",
        "    tensorboard = TensorBoard(log_dir=log_dir, histogram_freq=1)\n",
        "    lr_scheduler = LearningRateScheduler(scheduler)\n",
        "\n",
        "    callbacks = [checkpoint, early_stop, tensorboard, lr_scheduler]\n",
        "\n",
        "    history = model.fit(\n",
        "        train_gen,\n",
        "        validation_data=val_gen,\n",
        "        epochs=EPOCHS,\n",
        "        steps_per_epoch=len(train_gen),\n",
        "        validation_steps=len(val_gen),\n",
        "        callbacks=callbacks\n",
        "    )\n",
        "    return history\n",
        "\n",
        "def plot_history(history):\n",
        "    plt.figure(1, figsize=(16, 8))\n",
        "\n",
        "    plt.subplot(1, 2, 1)\n",
        "    plt.plot(history.history['loss'])\n",
        "    plt.plot(history.history['val_loss'])\n",
        "    plt.legend(['Train', 'Val'])\n",
        "    plt.title('Loss')\n",
        "\n",
        "    plt.subplot(1, 2, 2)\n",
        "    plt.plot(history.history['accuracy'])\n",
        "    plt.plot(history.history['val_accuracy'])\n",
        "    plt.legend(['Train', 'Val'])\n",
        "    plt.title('Accuracy')\n",
        "\n",
        "    plt.show()\n",
        "\n",
        "def evaluate_model(model, test_gen):\n",
        "    loss, acc, pre, rec = model.evaluate(test_gen)\n",
        "    print(\"\\nTest Accuracy: %.2f%%\" % (acc * 100))\n",
        "    print(\"Test Precision: %.2f%%\" % (pre * 100))\n",
        "    print(\"Test Recall: %.2f%%\" % (rec * 100))"
      ],
      "metadata": {
        "id": "yfL3ef8BVrOm"
      },
      "execution_count": 1,
      "outputs": []
    },
    {
      "cell_type": "code",
      "source": [
        "if __name__ == \"__main__\":\n",
        "    base_model_choice = 'DenseNet201'  # <-- Change this only\n",
        "\n",
        "    model = build_model(base_model_choice)\n",
        "    history = compile_and_train(model, base_model_choice, train_generator, validation_generator)\n",
        "    plot_history(history)\n",
        "    evaluate_model(model, test_generator)"
      ],
      "metadata": {
        "id": "LgAh6fTzXO7X"
      },
      "execution_count": null,
      "outputs": []
    },
    {
      "cell_type": "markdown",
      "source": [
        "run them by:\n",
        "python [python model file] --model [model name] --epochs [number of epoch]"
      ],
      "metadata": {
        "id": "KmCedmQmYXsH"
      }
    }
  ]
}